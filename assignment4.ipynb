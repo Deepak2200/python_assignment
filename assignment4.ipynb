{
 "cells": [
  {
   "cell_type": "code",
   "execution_count": null,
   "id": "8623381e-19f3-4225-add7-5fd891e0074b",
   "metadata": {},
   "outputs": [],
   "source": []
  },
  {
   "cell_type": "code",
   "execution_count": 3,
   "id": "2ecf2d25-7c85-40cd-a6f0-96bd16af7b4b",
   "metadata": {},
   "outputs": [
    {
     "name": "stdout",
     "output_type": "stream",
     "text": [
      "525\n",
      "Largest number in the given list is: 525\n"
     ]
    }
   ],
   "source": [
    "#1. Find the largest number from the given list, use for loop.\n",
    "\n",
    "numbers = [12, 75, 150, 180, 145, 525, 50]\n",
    "#solution\n",
    "direct_function=max(numbers)\n",
    "print(direct_function)\n",
    "\n",
    "#by loop\n",
    "numbers = [12, 75, 150, 180, 145, 525, 50]\n",
    "largest=0\n",
    "for i in numbers:\n",
    "    if largest < i: \n",
    "        largest=i\n",
    "print(f\"Largest number in the given list is: {largest}\")"
   ]
  },
  {
   "cell_type": "code",
   "execution_count": 5,
   "id": "3a2b6898-2490-4f07-85af-1edad060a535",
   "metadata": {},
   "outputs": [
    {
     "name": "stdout",
     "output_type": "stream",
     "text": [
      "2\n",
      "4\n",
      "6\n",
      "8\n",
      "10\n",
      "12\n"
     ]
    }
   ],
   "source": [
    "#Q2. Print all the even number between (1, 12).\n",
    "\n",
    "#solution\n",
    "for i in range(1,13):\n",
    "    if  i%2==0: \n",
    "        print(i)"
   ]
  },
  {
   "cell_type": "code",
   "execution_count": null,
   "id": "93c38259-6b84-4bdf-9f5d-a014bda9ec18",
   "metadata": {},
   "outputs": [],
   "source": [
    "#Q3. Calculate the sum of all numbers from 1 to a given number\n",
    "\n",
    "Expected Output:\n",
    "\n",
    "Enter number 10\n",
    "\n",
    "Sum is: 55"
   ]
  },
  {
   "cell_type": "code",
   "execution_count": 7,
   "id": "889db307-e095-4598-bdeb-14ed7d5c4ab6",
   "metadata": {},
   "outputs": [
    {
     "name": "stdin",
     "output_type": "stream",
     "text": [
      "Enter a integer number:  45\n"
     ]
    },
    {
     "name": "stdout",
     "output_type": "stream",
     "text": [
      "Sum is: 1035\n"
     ]
    }
   ],
   "source": [
    "#solution\n",
    "num=int(input(\"Enter a integer number: \"))\n",
    "sum=0\n",
    "for i in range(1,num+1):\n",
    "    sum+=i              #adding each number in list with sum\n",
    "print(f\"Sum is: {sum}\")"
   ]
  },
  {
   "cell_type": "code",
   "execution_count": null,
   "id": "1f4f202d-dd96-45d0-902e-ac70cea1880d",
   "metadata": {},
   "outputs": [],
   "source": [
    "#Q4. Write a program to display only those numbers from a list that satisfy the following conditions\n",
    "\n",
    "The number must be divisible by five\n",
    "\n",
    "If the number is greater than 150, then skip it and move to the next number\n",
    "\n",
    "If the number is greater than 500, then stop the loop"
   ]
  },
  {
   "cell_type": "code",
   "execution_count": 9,
   "id": "9929ff42-9681-4566-80c4-c2c9505e6897",
   "metadata": {},
   "outputs": [
    {
     "name": "stdout",
     "output_type": "stream",
     "text": [
      "75\n",
      "150\n",
      "145\n",
      "50\n"
     ]
    }
   ],
   "source": [
    "#solution\n",
    "numbers = [12, 75, 150, 180, 145, 525, 50]\n",
    "for i in numbers:\n",
    "\n",
    "    if i % 5 ==0:\n",
    "        if i > 150:\n",
    "            continue\n",
    "        if i>500:\n",
    "            break\n",
    "        print(i)"
   ]
  },
  {
   "cell_type": "code",
   "execution_count": 13,
   "id": "cfdc69dc-95f8-4e92-bede-745fe5dad075",
   "metadata": {},
   "outputs": [
    {
     "name": "stdout",
     "output_type": "stream",
     "text": [
      "50 40 30 20 10 "
     ]
    },
    {
     "data": {
      "text/plain": [
       "[50, 40, 30, 20, 10]"
      ]
     },
     "execution_count": 13,
     "metadata": {},
     "output_type": "execute_result"
    }
   ],
   "source": [
    "#Q5. Print the given list in reverse order.\n",
    "#list1 = [10, 20, 30, 40, 50]\n",
    "\n",
    "#solution\n",
    "list = [10, 20, 30, 40, 50]\n",
    "for i in reversed(list1):\n",
    "    print(i,end=\" \")\n",
    "    \n",
    "#or\n",
    "list[::-1]"
   ]
  },
  {
   "cell_type": "code",
   "execution_count": null,
   "id": "77d25b4c-5e2f-4d91-b66e-152887aff1a5",
   "metadata": {},
   "outputs": [],
   "source": []
  }
 ],
 "metadata": {
  "kernelspec": {
   "display_name": "Python 3 (ipykernel)",
   "language": "python",
   "name": "python3"
  },
  "language_info": {
   "codemirror_mode": {
    "name": "ipython",
    "version": 3
   },
   "file_extension": ".py",
   "mimetype": "text/x-python",
   "name": "python",
   "nbconvert_exporter": "python",
   "pygments_lexer": "ipython3",
   "version": "3.10.6"
  }
 },
 "nbformat": 4,
 "nbformat_minor": 5
}
