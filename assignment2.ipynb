{
 "cells": [
  {
   "cell_type": "markdown",
   "id": "0fa34bf6-ac80-41a6-a2fb-7a4ae563c3c0",
   "metadata": {},
   "source": [
    "# ASSIGNMENTS -2 - Compulsory-by sunny sir \n"
   ]
  },
  {
   "cell_type": "markdown",
   "id": "622ead0d-6a06-4253-8597-de9c892ca227",
   "metadata": {},
   "source": [
    "# 1. What is indentation error? Why indentation is important? Give one simple example?\n"
   ]
  },
  {
   "cell_type": "code",
   "execution_count": null,
   "id": "bdcd5ef8-6e06-4892-afc4-3632092a4a14",
   "metadata": {},
   "outputs": [],
   "source": [
    "solution:-\n",
    "-indentation error is like some extra/less tab or space between the syntaxs\n",
    "-indentation important bcoz of sytax have some space to write code or code alway run inside the function that the reson indentation \n",
    "come over the concept.\n",
    "-ex.\n",
    "a=45\n",
    "if a >20:\n",
    "    print(f\" a={a} is greater than 20\")#this space is indentation error\n",
    "else :\n",
    "    print(\"this number is less than 45\")\n",
    "    \n",
    "if a >20:\n",
    "print(f\" a={a} is greater than 20\")#this space is indentation error here we get error\n",
    "else :\n",
    "print(\"this number is less than 45\")   "
   ]
  },
  {
   "cell_type": "code",
   "execution_count": 4,
   "id": "c137586b-3a47-42fc-9c9f-6746ee9945e3",
   "metadata": {},
   "outputs": [],
   "source": [
    "#2.Correct the following code and write the comment where you made the correction?"
   ]
  },
  {
   "cell_type": "code",
   "execution_count": 5,
   "id": "d83e931a-578a-485e-b6c3-f0ddee0ba188",
   "metadata": {},
   "outputs": [
    {
     "name": "stdin",
     "output_type": "stream",
     "text": [
      "Hey friend, is class started?: [0-False/1-True] 1\n"
     ]
    },
    {
     "name": "stdout",
     "output_type": "stream",
     "text": [
      "Since class started...\n",
      "Lets concentrate\n"
     ]
    },
    {
     "name": "stdin",
     "output_type": "stream",
     "text": [
      "Hey friend, is class started?: [0-False/1-True] 0\n"
     ]
    },
    {
     "name": "stdout",
     "output_type": "stream",
     "text": [
      "Since class is not started...\n",
      "let's revise\n"
     ]
    }
   ],
   "source": [
    "class_started = bool(input(\"Hey friend, is class started?: [0-False/1-True]\"))\n",
    "\n",
    "if class_started:\n",
    "    print(\"Since class started...\")\n",
    "    print(\"Lets concentrate\")\n",
    "else:\n",
    "    print(\"Since class is not started...\")\n",
    "    print(\"let's revise\") \n",
    "    \n",
    "#solution:-i got error to give value give \"0/1\" to class_started we need to do some correction data type/data magaling\n",
    "\n",
    "\n",
    "class_started = int(input(\"Hey friend, is class started?: [0-False/1-True]\"))#change here we got values\n",
    "\n",
    "if class_started:\n",
    "    print(\"Since class started...\")\n",
    "    print(\"Lets concentrate\")\n",
    "else:\n",
    "    print(\"Since class is not started...\")\n",
    "    print(\"let's revise\") \n",
    "    "
   ]
  },
  {
   "cell_type": "code",
   "execution_count": null,
   "id": "1dcf8df1-a289-4753-a4e0-6c5d62e2b65f",
   "metadata": {},
   "outputs": [],
   "source": [
    "3.Use if else condition to verify that dataype of input() method in python is always string."
   ]
  },
  {
   "cell_type": "code",
   "execution_count": 12,
   "id": "d7e75d56-15b2-409f-93cb-92576d1bfa6f",
   "metadata": {},
   "outputs": [
    {
     "name": "stdin",
     "output_type": "stream",
     "text": [
      "Enter your comment 1\n"
     ]
    },
    {
     "name": "stdout",
     "output_type": "stream",
     "text": [
      "<class 'str'>\n",
      "I am a string\n"
     ]
    }
   ],
   "source": [
    "#solution\n",
    "\n",
    "string = input(\"Enter your comment\")\n",
    "\n",
    "if type(string) == str:\n",
    "    print(type(string))\n",
    "    print(\"I am a string\")\n",
    "else:\n",
    "    print(\"I am not a string\")"
   ]
  },
  {
   "cell_type": "code",
   "execution_count": null,
   "id": "7b7beeac-4f5e-4a2e-b71d-94a35ad2ce1b",
   "metadata": {},
   "outputs": [],
   "source": [
    "4.Take 3 variables and assign integer values to them. Find the largest variable, by only using the if and else conditions."
   ]
  },
  {
   "cell_type": "code",
   "execution_count": 15,
   "id": "c3472556-8335-4782-ac37-957d837fe31d",
   "metadata": {},
   "outputs": [
    {
     "name": "stdout",
     "output_type": "stream",
     "text": [
      "C is greater\n"
     ]
    }
   ],
   "source": [
    "#solution\n",
    "a= 100\n",
    "b= 500\n",
    "c= 1000\n",
    "\n",
    "if a < b:\n",
    "    if b < c:\n",
    "        print(\"C is greater\")\n",
    "    else:\n",
    "        print(\"B is greater\")\n",
    "else:\n",
    "    print(\"A is greater\")\n"
   ]
  },
  {
   "cell_type": "code",
   "execution_count": null,
   "id": "657e8f68-c3eb-466f-9e87-f2421c975b49",
   "metadata": {},
   "outputs": [],
   "source": [
    "5.What would be the solution?\n",
    "1.True\n",
    "\n",
    "2.False\n",
    "a = 6\n",
    "b = 10\n",
    "print( not ( not a == 10 or not b == 10) )"
   ]
  },
  {
   "cell_type": "code",
   "execution_count": 16,
   "id": "b8a3f670-830f-46c0-bc18-97c3e6a08887",
   "metadata": {},
   "outputs": [
    {
     "name": "stdout",
     "output_type": "stream",
     "text": [
      "False\n"
     ]
    }
   ],
   "source": [
    "#solution\n",
    "a = 6\n",
    "b = 10\n",
    "print( not ( not a == 10 or not b == 10) )"
   ]
  },
  {
   "cell_type": "code",
   "execution_count": null,
   "id": "9366d79b-4e63-4f67-9cc5-8a1835a0ebaa",
   "metadata": {},
   "outputs": [],
   "source": [
    "6.Find the answer as well as find out the reason behind the result?\n",
    "A = 5.0\n",
    "B = 10/2\n",
    "print(A is B)\n",
    "\n",
    "case2\n",
    "A = 5.0\n",
    "B = int(10/2)\n",
    "print(A is B)\n",
    "\n",
    "case3\n",
    "A = 5.0\n",
    "B = float(10/2)\n",
    "print(A is B)"
   ]
  },
  {
   "cell_type": "code",
   "execution_count": 19,
   "id": "47be4e4b-42b1-483d-a96c-b3a12dc0395b",
   "metadata": {},
   "outputs": [
    {
     "name": "stdout",
     "output_type": "stream",
     "text": [
      "False\n"
     ]
    }
   ],
   "source": [
    "# Case 1\n",
    "\n",
    "A= 5.0\n",
    "B= 10/2\n",
    "\n",
    "print(A is B)\n",
    "\"A is floating type number and B id arithmetic number there for it show false\"\n"
   ]
  },
  {
   "cell_type": "code",
   "execution_count": 20,
   "id": "fe2fa211-a385-49c9-aa13-772a21828589",
   "metadata": {},
   "outputs": [
    {
     "name": "stdout",
     "output_type": "stream",
     "text": [
      "False\n"
     ]
    }
   ],
   "source": [
    "# Case 2\n",
    "A = 5.0\n",
    "B = int(10/2)\n",
    "print(A is B)\n",
    "\"A is floating type number and B is type casted to integer there for it show false\""
   ]
  },
  {
   "cell_type": "code",
   "execution_count": 21,
   "id": "8e916505-24c0-48bf-99dc-06b39b474807",
   "metadata": {},
   "outputs": [
    {
     "name": "stdout",
     "output_type": "stream",
     "text": [
      "False\n"
     ]
    }
   ],
   "source": [
    "A = 5.0\n",
    "B = float(10/2)\n",
    "print(A is B)\n",
    " \"\"\"arithmatic expression is of base 2 and is converted to float type and \n",
    "    Python only prints a decimal approximation to the true decimal value of the binary approximation \"\"\""
   ]
  },
  {
   "cell_type": "code",
   "execution_count": 22,
   "id": "3d046433-b973-4629-ba3b-eefe0f565e09",
   "metadata": {},
   "outputs": [
    {
     "name": "stdout",
     "output_type": "stream",
     "text": [
      "integer division: 25/5=5\n"
     ]
    }
   ],
   "source": [
    "var_a = 5\n",
    "var_b = 25\n",
    "integer_division = var_b // var_a\n",
    "print(f\"integer division: {var_b}/{var_a}={integer_division}\")"
   ]
  },
  {
   "cell_type": "code",
   "execution_count": 23,
   "id": "80992cd1-1e93-4304-ab42-86dc54ac0b4d",
   "metadata": {},
   "outputs": [
    {
     "name": "stdout",
     "output_type": "stream",
     "text": [
      "integer division: 25/3=8\n"
     ]
    }
   ],
   "source": [
    "var_a = 3\n",
    "var_b = 25\n",
    "integer_division = var_b // var_a\n",
    "print(f\"integer division: {var_b}/{var_a}={integer_division}\")"
   ]
  },
  {
   "cell_type": "code",
   "execution_count": 24,
   "id": "14b00a01-7aba-467a-b42d-5ae07485fa79",
   "metadata": {},
   "outputs": [
    {
     "name": "stdout",
     "output_type": "stream",
     "text": [
      "remainder: 25/5 is 0\n"
     ]
    }
   ],
   "source": [
    "var_a = 5\n",
    "var_b = 25\n",
    "remainder = var_b % var_a\n",
    "print(f\"remainder: {var_b}/{var_a} is {remainder}\")"
   ]
  },
  {
   "cell_type": "code",
   "execution_count": 25,
   "id": "a266925a-26ea-4dfa-b2e0-dfd2f802d8b5",
   "metadata": {},
   "outputs": [
    {
     "name": "stdout",
     "output_type": "stream",
     "text": [
      "remainder: 25/3 is 1\n"
     ]
    }
   ],
   "source": [
    "var_a = 3\n",
    "var_b = 25\n",
    "remainder = var_b % var_a\n",
    "print(f\"remainder: {var_b}/{var_a} is {remainder}\")"
   ]
  },
  {
   "cell_type": "code",
   "execution_count": null,
   "id": "3d7281cf-3cb7-4826-8169-ffedda150a19",
   "metadata": {},
   "outputs": [],
   "source": [
    "7.Write a program that asks the user to enter a number. You should print out a message to the user, either\n",
    "“That number is divisible by either 3 or 5”, or “That number is not divisible by either 3 or 5”.\n",
    "Be sure to consider the data type of the input you are taking in from the user. \n",
    "Use a single if/else block to solve this problem."
   ]
  },
  {
   "cell_type": "code",
   "execution_count": 28,
   "id": "1fb7651f-8421-4512-b03b-c6e719b8418f",
   "metadata": {},
   "outputs": [
    {
     "name": "stdin",
     "output_type": "stream",
     "text": [
      "enter the number    43\n"
     ]
    },
    {
     "name": "stdout",
     "output_type": "stream",
     "text": [
      "The number is not divisble by 3 or 5\n"
     ]
    }
   ],
   "source": [
    "#solution\n",
    "number = int(input(\"enter the number   \"))\n",
    "\n",
    "if number % 3 ==0  or number % 5 == 0:\n",
    "    print(\"The number is  divisible by 3 or 5\")\n",
    "else:\n",
    "    print(\"The number is not divisble by 3 or 5\")"
   ]
  },
  {
   "cell_type": "code",
   "execution_count": null,
   "id": "722260e0-9cef-47d5-bc4f-ca3eeacb6b3e",
   "metadata": {},
   "outputs": [],
   "source": [
    "8.Take user input for length and width. Then calculate the area of rectangle.\n",
    "Also print as per length and width whether its a square of rectangle."
   ]
  },
  {
   "cell_type": "code",
   "execution_count": 30,
   "id": "98a33494-bbca-4603-8eac-85cb1c5fb779",
   "metadata": {},
   "outputs": [
    {
     "name": "stdin",
     "output_type": "stream",
     "text": [
      " Enter the length  5\n",
      " Enter the width   5\n"
     ]
    },
    {
     "name": "stdout",
     "output_type": "stream",
     "text": [
      " length 5  and width 5  are same so it is a square\n"
     ]
    }
   ],
   "source": [
    "#solution\n",
    "length = int(input(\" Enter the length \"))\n",
    "width = int(input(\" Enter the width  \"))\n",
    "\n",
    "area= length * width\n",
    "\n",
    "if (length == width):\n",
    "    print(f\" length {length}  and width {width}  are same so it is a square\")\n",
    "\n",
    "else:\n",
    "    print(f\"The area of the rectangle with length {length} and width {width} and area of ractangle {area} unit\")\n"
   ]
  },
  {
   "cell_type": "code",
   "execution_count": null,
   "id": "700abd3c-82ff-40b7-a7d1-342acadb6ec8",
   "metadata": {},
   "outputs": [],
   "source": [
    "9.Take two variable radius_1 and radius_2 and calculate the area of circle_1 and circle_2.\n",
    "Also print which circle has large area. If area is equal then print area is equal."
   ]
  },
  {
   "cell_type": "code",
   "execution_count": 38,
   "id": "92f57a9f-1238-4aea-898c-015a7b386b68",
   "metadata": {},
   "outputs": [
    {
     "name": "stdin",
     "output_type": "stream",
     "text": [
      "Please enter the radius of the 1st circle in cm:  5\n",
      "Please enter the radius of the 2nd circle in cm :  4\n"
     ]
    },
    {
     "name": "stdout",
     "output_type": "stream",
     "text": [
      "78.5\n",
      "50.24\n",
      "Circle one has larger area of 78.5 sq.cm \n"
     ]
    }
   ],
   "source": [
    "#solution\n",
    "radius_1 = int(input(\"Please enter the radius of the 1st circle in cm: \"))\n",
    "radius_2 = int(input(\"Please enter the radius of the 2nd circle in cm : \"))\n",
    "pie=3.14\n",
    "area_of_circle_1 =  pie*(radius_1 ** 2)\n",
    "area_of_circle_2 =  pie*(radius_2 ** 2)\n",
    "\n",
    "print(area_of_circle_1 )\n",
    "print(area_of_circle_2)\n",
    "\n",
    "if area_of_circle_1 == area_of_circle_2:\n",
    "    print(\"Both the circles have equal Area\")\n",
    "else:\n",
    "    if area_of_circle_1 > area_of_circle_2:\n",
    "        print(f\"Circle one has larger area of {area_of_circle_1} sq.cm \")\n",
    "    else:\n",
    "        print(f\"Circle two has larger area of {area_of_circle_2} sq. cm \")\n"
   ]
  },
  {
   "cell_type": "code",
   "execution_count": null,
   "id": "d70bf8e6-1590-4ab6-a4a4-55d667c0222e",
   "metadata": {},
   "outputs": [],
   "source": [
    "10.Check whether a year is leap year or not. Use nested if...else to solve this problem. \n",
    "A leap year is exactly divisible by 4 except for century years (years ending with 00). \n",
    "The century year is a leap year only if it is perfectly divisible by 400."
   ]
  },
  {
   "cell_type": "code",
   "execution_count": 40,
   "id": "1f45360e-cb40-432b-95f2-9ec55de0fe33",
   "metadata": {},
   "outputs": [
    {
     "name": "stdout",
     "output_type": "stream",
     "text": [
      "It is not a leap year\n"
     ]
    }
   ],
   "source": [
    "leap_year = 2102\n",
    "\n",
    "if leap_year % 4 == 0 :\n",
    "    if leap_year % 400 ==0:\n",
    "        print(\"It is a leap year\")\n",
    "    else:\n",
    "        print(\"Not a leap year\")\n",
    "else:\n",
    "    print(\"It is not a leap year\")"
   ]
  },
  {
   "cell_type": "code",
   "execution_count": null,
   "id": "84101b01-5ec3-482b-8cc3-a980dbfb0670",
   "metadata": {},
   "outputs": [],
   "source": []
  }
 ],
 "metadata": {
  "kernelspec": {
   "display_name": "Python 3 (ipykernel)",
   "language": "python",
   "name": "python3"
  },
  "language_info": {
   "codemirror_mode": {
    "name": "ipython",
    "version": 3
   },
   "file_extension": ".py",
   "mimetype": "text/x-python",
   "name": "python",
   "nbconvert_exporter": "python",
   "pygments_lexer": "ipython3",
   "version": "3.10.6"
  }
 },
 "nbformat": 4,
 "nbformat_minor": 5
}
