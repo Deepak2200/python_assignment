{
 "cells": [
  {
   "cell_type": "code",
   "execution_count": null,
   "id": "7c521086-5d03-470c-9e26-69c9167ee718",
   "metadata": {},
   "outputs": [],
   "source": [
    "# assignment 3 -\n"
   ]
  },
  {
   "cell_type": "code",
   "execution_count": 3,
   "id": "394448d9-d5e9-4748-bc90-8ac15ac94c90",
   "metadata": {},
   "outputs": [
    {
     "data": {
      "text/plain": [
       "3"
      ]
     },
     "execution_count": 3,
     "metadata": {},
     "output_type": "execute_result"
    }
   ],
   "source": [
    "#1.Count the number of times iNeuron appears in the string.\n",
    "\n",
    "text = \"Welcome to iNeuron, You are a part of FSDS Bootcamp 2 in iNeuron. I hope you are enjoying the course by iNeuron\"\n",
    "\n",
    "#solution\n",
    "text.count(\"iNeuron\")"
   ]
  },
  {
   "cell_type": "code",
   "execution_count": 5,
   "id": "8c7240ab-26a3-450f-a8cb-e5d84c8a82f8",
   "metadata": {},
   "outputs": [
    {
     "data": {
      "text/plain": [
       "True"
      ]
     },
     "execution_count": 5,
     "metadata": {},
     "output_type": "execute_result"
    }
   ],
   "source": [
    "#2.Check if position 5 to 11 ends with the phrase \"iNeuron.\" in the string\n",
    "\n",
    "txt = \"Hello, welcome to FSDS 2.0 at iNeuron.\"\n",
    "\n",
    "#solution\n",
    "txt.endswith(\"iNeuron.\")"
   ]
  },
  {
   "cell_type": "code",
   "execution_count": 6,
   "id": "34662006-89ac-45b2-9b3e-e7bc20be0aee",
   "metadata": {},
   "outputs": [
    {
     "name": "stdout",
     "output_type": "stream",
     "text": [
      " D.C.Yadav\n",
      "\n"
     ]
    }
   ],
   "source": [
    "\"\"\"#3.Write a program that takes your full name as input and displays the abbreviations of the first and middle names except the last name which is displayed as it is.\n",
    "For example, if your name is Sunny Bhaveen Chandra, then the output should be S.B.Chandra.\n",
    "\"\"\"\n",
    "# solution\n",
    "name = \"Deepak Chandraprakash Yadav\"\n",
    "first_name, middle_name, sir_name = name.split(\" \")\n",
    "\n",
    "print(f\"\"\" {first_name[0]}.{middle_name[0]}.{sir_name}\"\"\")\n"
   ]
  },
  {
   "cell_type": "code",
   "execution_count": 7,
   "id": "fb77b8ea-366d-476f-901b-c1c63abd4e79",
   "metadata": {},
   "outputs": [
    {
     "data": {
      "text/plain": [
       "'My#name#is#Rishav#Dash'"
      ]
     },
     "execution_count": 7,
     "metadata": {},
     "output_type": "execute_result"
    }
   ],
   "source": [
    "#4.Join all items in a list into a string, using a hash(#) character as separator:\n",
    "\n",
    "#LIST = [\"My\", \"name\", \"is\", \"Rishav\", \"Dash\"]\n",
    "\n",
    "#solution\n",
    "LIST = [\"My\", \"name\", \"is\", \"Rishav\", \"Dash\"]\n",
    "\"#\".join (LIST)"
   ]
  },
  {
   "cell_type": "code",
   "execution_count": null,
   "id": "2bb30ed6-ffe3-4c37-b6ab-db8a2f91c4bd",
   "metadata": {},
   "outputs": [],
   "source": [
    "#5.Write example for the following string manipulation function,\n",
    "\n",
    "- isdecimal()\n",
    "- islower()\n",
    "- isupper()\n",
    "- isalpha()\n",
    "- isnumeric()"
   ]
  },
  {
   "cell_type": "code",
   "execution_count": 9,
   "id": "ea4854ff-1b8f-4039-9ceb-f479dcae9054",
   "metadata": {},
   "outputs": [
    {
     "name": "stdout",
     "output_type": "stream",
     "text": [
      "False\n",
      "False\n",
      "False\n",
      "True\n",
      "False\n"
     ]
    }
   ],
   "source": [
    "#solution\n",
    "string=\"Deepak\"\n",
    "print(string.isdecimal())\n",
    "print(string.islower())\n",
    "print(string.isupper())\n",
    "print(string.isalpha())\n",
    "print(string.isnumeric())"
   ]
  },
  {
   "cell_type": "code",
   "execution_count": null,
   "id": "cf6ebdd4-b898-41e7-8dd4-f56a052c87ca",
   "metadata": {},
   "outputs": [],
   "source": [
    "#6.Indian PAN card format follows the following formats -\n",
    "\n",
    "AYEPC7894X\n",
    "ABCDE9999Y Take user input for PAN_CARD and validate as per the above example."
   ]
  },
  {
   "cell_type": "code",
   "execution_count": null,
   "id": "b73fdf14-8cb0-4bb1-ae0a-949d10a5b974",
   "metadata": {},
   "outputs": [
    {
     "name": "stdout",
     "output_type": "stream",
     "text": [
      "your pan number should 10 digit and there are start 5 decimal are capture by Alphabet and 4 decimal is 1-9 and last 1 should be capital alphabate\n"
     ]
    }
   ],
   "source": [
    "#solution:-\n",
    "print(\"your pan number should 10 digit and there are start 5 decimal are capture by Alphabet and 4 decimal is 1-9 and last 1 should be capital alphabate\")\n",
    "pan_number = input(\"enter your pan number\")\n",
    "\n",
    "if pan_number[0:5].isupper() and pan_number[5:9].isdigit() and pan_number[9].isupper() and len(pan_number)==10:\n",
    "    print(f\"user input is correct: {pan_number} \")\n",
    "else:\n",
    "    print(\"invalid input\")\n"
   ]
  }
 ],
 "metadata": {
  "kernelspec": {
   "display_name": "Python 3 (ipykernel)",
   "language": "python",
   "name": "python3"
  },
  "language_info": {
   "codemirror_mode": {
    "name": "ipython",
    "version": 3
   },
   "file_extension": ".py",
   "mimetype": "text/x-python",
   "name": "python",
   "nbconvert_exporter": "python",
   "pygments_lexer": "ipython3",
   "version": "3.10.6"
  }
 },
 "nbformat": 4,
 "nbformat_minor": 5
}
